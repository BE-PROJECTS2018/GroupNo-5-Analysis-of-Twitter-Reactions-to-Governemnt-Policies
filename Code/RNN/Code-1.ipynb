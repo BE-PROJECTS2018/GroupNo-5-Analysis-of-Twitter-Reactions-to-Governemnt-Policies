{
 "cells": [
  {
   "cell_type": "code",
   "execution_count": 2,
   "metadata": {
    "collapsed": true
   },
   "outputs": [],
   "source": [
    "import pandas as pd\n",
    "import json\n",
    "import preprocessor as p"
   ]
  },
  {
   "cell_type": "code",
   "execution_count": 3,
   "metadata": {
    "collapsed": true
   },
   "outputs": [],
   "source": [
    "#LOADING DATA\n",
    "with open('Dataset-GST.json', 'r') as f:\n",
    "    data = json.load(f)\n",
    "    dataframe = pd.DataFrame(data, columns=['fullname', 'id', 'likes', 'replies','retweets','text','timestamp', 'url','user'])\n",
    "    #print(gst_dataframe)\n",
    "    dataframe.pop('fullname')\n",
    "    dataframe.pop('url')\n",
    "    dataframe.pop('user')"
   ]
  },
  {
   "cell_type": "code",
   "execution_count": 3,
   "metadata": {
    "collapsed": true
   },
   "outputs": [],
   "source": [
    "dataframe.to_csv('GST.csv', encoding = \"utf-8\")"
   ]
  },
  {
   "cell_type": "code",
   "execution_count": 4,
   "metadata": {
    "collapsed": true
   },
   "outputs": [],
   "source": [
    "#PREPROCESSING\n",
    "parsed_tweetlist = []\n",
    "indexlist = []\n",
    "i = 0\n",
    "while i < 61809:\n",
    "    parsed_tweet = p.parse(dataframe['text'][i])\n",
    "    \n",
    "    if(parsed_tweet.urls != None):\n",
    "        parsed_tweetlist.append(parsed_tweet.urls[0].match)\n",
    "        indexlist.append(i)\n",
    "\n",
    "    p.set_options(p.OPT.URL, p.OPT.EMOJI, p.OPT.MENTION, p.OPT.RESERVED)\n",
    "    dataframe['text'][i] = p.clean(dataframe['text'][i])\n",
    "    i = i + 1\n"
   ]
  },
  {
   "cell_type": "code",
   "execution_count": 63,
   "metadata": {},
   "outputs": [
    {
     "name": "stdout",
     "output_type": "stream",
     "text": [
      "42435\n",
      "4183\n"
     ]
    }
   ],
   "source": [
    "#PREPROCESSING URLS LIST\n",
    "def check_urls(str_local):\n",
    "    if(str_local.find(\"dlvr.it\") != -1):\n",
    "        return 1\n",
    "    if(str_local.find(\"pic.twitter.com\") != -1):\n",
    "        return 1\n",
    "    if(str_local.find(\"youtu.be\") != -1):\n",
    "        return 1\n",
    "    if(str_local.find(\"youtube.com\") != -1):\n",
    "        return 1\n",
    "    if(str_local.find(\"/status/\") != -1):\n",
    "        return 1\n",
    "    return 0\n",
    "\n",
    "def find_urls(str_local):\n",
    "    if(str_local.find(\"timesofindia.com\") != -1):\n",
    "        return 1\n",
    "    if(str_local.find(\"financialexpress.com\") != -1):\n",
    "        return 1\n",
    "    if(str_local.find(\"economictimes.indiatimes.com\") != -1):\n",
    "        return 1\n",
    "    if(str_local.find(\"hindustantimes.com\") != -1):\n",
    "        return 1\n",
    "    if(str_local.find(\"thehindu.com\") != -1):\n",
    "        return 1\n",
    "    if(str_local.find(\"newindianexpress\") != -1):\n",
    "        return 1\n",
    "    if(str_local.find(\"dnaindia.com\") != -1):\n",
    "        return 1\n",
    "    if(str_local.find(\"indianexpress.com\") != -1):\n",
    "        return 1\n",
    "    if(str_local.find(\"www.thequint.com\") != -1):\n",
    "        return 1\n",
    "    if(str_local.find(\"swarajyamag.com\") != -1):\n",
    "        return 1\n",
    "    if(str_local.find(\"www.opindia.com\") != -1):\n",
    "        return 1\n",
    "    if(str_local.find(\"www.firstpost.com\") != -1):\n",
    "        return 1\n",
    "    if(str_local.find(\"scroll.in\") != -1):\n",
    "        return 1\n",
    "    if(str_local.find(\"www.scowhoop.com\") != -1):\n",
    "        return 1\n",
    "    if(str_local.find(\"business-standard.com\") != -1):\n",
    "        return 1\n",
    "    if(str_local.find(\"theindiancapitalist.com\") != -1):\n",
    "        return 1\n",
    "    if(str_local.find(\"newsbharati.com\") != -1):\n",
    "        return 1\n",
    "    if(str_local.find(\"deccanchronicle.com\") != -1):\n",
    "        return 1\n",
    "    if(str_local.find(\"www.moneycontrol.com\") != -1):\n",
    "        return 1\n",
    "    if(str_local.find(\"www.businesstoday.in\") != -1):\n",
    "        return 1\n",
    "    if(str_local.find(\"www.ndtv.com\") != -1):\n",
    "        return 1\n",
    "    if(str_local.find(\"www.gstindiaexpert.co\") != -1):\n",
    "        return 1\n",
    "    return 0\n",
    "\n",
    "url_list = []\n",
    "url_index = []\n",
    "i = 0\n",
    "size = len(parsed_tweetlist)\n",
    "\n",
    "\n",
    "#urls_check = [\"/status/\",\"dlvr.it\",\"pic.twitter.com\",\"youtu.be\",\"youtube.com\"]\n",
    "\n",
    "#urls_found = [\"timesofindia.com\",\"financialexpress.com\",\"economictimes.indiatimes.com\",\"www.thequint.com\",\"newindianexpress\",\n",
    "#             \"hindustantimes.com\",\"thehindu.com\",\"newsx.coopm\",\"dnaindia.com\",\"indianexpress.com\",\"www.firstpost.com\",\"scroll.in\",\n",
    "#              \"www.opindia.com\",\"swarajyamag.com\",\"www.scowhoop.com\",\"business-standard.com\",\"newsbharati.com\",\n",
    "#              \"theindiancapitalist.com\",\"deccanchronicle.com\", \"www.moneycontrol.com\",\"www.businesstoday.in\",\"www.ndtv.com\",\n",
    "#              \"www.gstindiaexpert.co\"]\n",
    "\n",
    "while i<size:\n",
    "    if(check_urls(parsed_tweetlist[i]) == 0):\n",
    "        if(find_urls(parsed_tweetlist[i]) == 1):\n",
    "            url_list.append(parsed_tweetlist[i])\n",
    "            url_index.append(indexlist[i])\n",
    "    i = i+1\n",
    "\n",
    "new_size = len(url_list)\n",
    "print(size)\n",
    "print(new_size)\n",
    "\n",
    "   "
   ]
  },
  {
   "cell_type": "code",
   "execution_count": 16,
   "metadata": {
    "collapsed": true
   },
   "outputs": [
    {
     "ename": "ValueError",
     "evalue": "labels [57683 57684 57688 57733 57767 57773 57865 57884 57922 57923 57924 57925\n 57926 57937 57992 57999 58015 58021 58045 58061 58067 58078 58080 58114\n 58129 58133 58153 58156 58160 58165 58167 58177 58188 58216 58236 58247\n 58253 58283 58294 58312 58314 58345 58365 58385 58387 58389 58421 58434\n 58442 58460 58509 58618 58621 58624 58639 58644 58668 58701 58709 58713\n 58726 58748 58793 58800 58803 58812 58824 58838 58930 58971 58973 58974\n 58975 58976 58977 58982 59032 59035 59037 59040 59041 59053 59056 59060\n 59081 59084 59098 59152 59153 59158 59167 59173 59186 59283 59325 59327\n 59328 59333 59335 59339 59345 59346 59349 59378 59383 59388 59391 59393\n 59395 59396 59399 59435 59501 59506 59523 59547 59548 59549 59550 59557\n 59571 59591 59592 59629 59637 59647 59661 59668 59671 59672 59673 59674\n 59680 59683 59694 59695 59696 59716 59720 59728 59777 59801 59815 59834\n 59837 59848 59854 59860 59872 59879 59902 59914 59935 59936 59941 59960\n 59971 59998 60012 60014 60019 60020 60022 60035 60045 60047 60048 60052\n 60053 60079 60154 60175 60268 60274 60275 60279 60290 60295 60302 60308\n 60309 60310 60331 60408 60417 60426 60446 60483 60523 60527 60547 60550\n 60559 60574 60578 60589 60594 60595 60596 60597 60599 60606 60620 60640\n 60663 60666 60687 60694 60700 60707 60752 60753 60754 60757 60782 60792\n 60801 60860 60901 60919 60962 60968 60969 60982 60983 60986 60987 60988\n 60990 61025 61030 61060 61085 61094 61109 61117 61121 61126 61131 61207\n 61214 61223 61228 61232 61257 61264 61311 61318 61335 61388 61398 61405\n 61413 61414 61417 61418 61424 61429 61434 61452 61454 61459 61460 61461\n 61481 61510 61522 61523 61527 61529 61530 61533 61574 61583 61584 61651\n 61683 61748 61751] not contained in axis",
     "output_type": "error",
     "traceback": [
      "\u001b[1;31m---------------------------------------------------------------------------\u001b[0m",
      "\u001b[1;31mValueError\u001b[0m                                Traceback (most recent call last)",
      "\u001b[1;32m<ipython-input-16-bc1321df7f51>\u001b[0m in \u001b[0;36m<module>\u001b[1;34m()\u001b[0m\n\u001b[1;32m----> 1\u001b[1;33m \u001b[0mdataframe\u001b[0m \u001b[1;33m=\u001b[0m \u001b[0mdataframe\u001b[0m\u001b[1;33m.\u001b[0m\u001b[0mdrop\u001b[0m\u001b[1;33m(\u001b[0m\u001b[0murl_index\u001b[0m\u001b[1;33m)\u001b[0m\u001b[1;33m\u001b[0m\u001b[0m\n\u001b[0m\u001b[0;32m      2\u001b[0m \u001b[0mdataframe\u001b[0m\u001b[1;33m.\u001b[0m\u001b[0mreset_index\u001b[0m\u001b[1;33m(\u001b[0m\u001b[0mdrop\u001b[0m \u001b[1;33m=\u001b[0m \u001b[1;32mTrue\u001b[0m\u001b[1;33m,\u001b[0m \u001b[0minplace\u001b[0m\u001b[1;33m=\u001b[0m \u001b[1;32mTrue\u001b[0m\u001b[1;33m)\u001b[0m\u001b[1;33m\u001b[0m\u001b[0m\n\u001b[0;32m      3\u001b[0m \u001b[0mprint\u001b[0m\u001b[1;33m(\u001b[0m\u001b[0mdataframe\u001b[0m\u001b[1;33m.\u001b[0m\u001b[0mshape\u001b[0m\u001b[1;33m)\u001b[0m\u001b[1;33m\u001b[0m\u001b[0m\n",
      "\u001b[1;32m~\\Anaconda3\\lib\\site-packages\\pandas\\core\\generic.py\u001b[0m in \u001b[0;36mdrop\u001b[1;34m(self, labels, axis, level, inplace, errors)\u001b[0m\n\u001b[0;32m   2159\u001b[0m                 \u001b[0mnew_axis\u001b[0m \u001b[1;33m=\u001b[0m \u001b[0maxis\u001b[0m\u001b[1;33m.\u001b[0m\u001b[0mdrop\u001b[0m\u001b[1;33m(\u001b[0m\u001b[0mlabels\u001b[0m\u001b[1;33m,\u001b[0m \u001b[0mlevel\u001b[0m\u001b[1;33m=\u001b[0m\u001b[0mlevel\u001b[0m\u001b[1;33m,\u001b[0m \u001b[0merrors\u001b[0m\u001b[1;33m=\u001b[0m\u001b[0merrors\u001b[0m\u001b[1;33m)\u001b[0m\u001b[1;33m\u001b[0m\u001b[0m\n\u001b[0;32m   2160\u001b[0m             \u001b[1;32melse\u001b[0m\u001b[1;33m:\u001b[0m\u001b[1;33m\u001b[0m\u001b[0m\n\u001b[1;32m-> 2161\u001b[1;33m                 \u001b[0mnew_axis\u001b[0m \u001b[1;33m=\u001b[0m \u001b[0maxis\u001b[0m\u001b[1;33m.\u001b[0m\u001b[0mdrop\u001b[0m\u001b[1;33m(\u001b[0m\u001b[0mlabels\u001b[0m\u001b[1;33m,\u001b[0m \u001b[0merrors\u001b[0m\u001b[1;33m=\u001b[0m\u001b[0merrors\u001b[0m\u001b[1;33m)\u001b[0m\u001b[1;33m\u001b[0m\u001b[0m\n\u001b[0m\u001b[0;32m   2162\u001b[0m             \u001b[0mdropped\u001b[0m \u001b[1;33m=\u001b[0m \u001b[0mself\u001b[0m\u001b[1;33m.\u001b[0m\u001b[0mreindex\u001b[0m\u001b[1;33m(\u001b[0m\u001b[1;33m**\u001b[0m\u001b[1;33m{\u001b[0m\u001b[0maxis_name\u001b[0m\u001b[1;33m:\u001b[0m \u001b[0mnew_axis\u001b[0m\u001b[1;33m}\u001b[0m\u001b[1;33m)\u001b[0m\u001b[1;33m\u001b[0m\u001b[0m\n\u001b[0;32m   2163\u001b[0m             \u001b[1;32mtry\u001b[0m\u001b[1;33m:\u001b[0m\u001b[1;33m\u001b[0m\u001b[0m\n",
      "\u001b[1;32m~\\Anaconda3\\lib\\site-packages\\pandas\\core\\indexes\\base.py\u001b[0m in \u001b[0;36mdrop\u001b[1;34m(self, labels, errors)\u001b[0m\n\u001b[0;32m   3622\u001b[0m             \u001b[1;32mif\u001b[0m \u001b[0merrors\u001b[0m \u001b[1;33m!=\u001b[0m \u001b[1;34m'ignore'\u001b[0m\u001b[1;33m:\u001b[0m\u001b[1;33m\u001b[0m\u001b[0m\n\u001b[0;32m   3623\u001b[0m                 raise ValueError('labels %s not contained in axis' %\n\u001b[1;32m-> 3624\u001b[1;33m                                  labels[mask])\n\u001b[0m\u001b[0;32m   3625\u001b[0m             \u001b[0mindexer\u001b[0m \u001b[1;33m=\u001b[0m \u001b[0mindexer\u001b[0m\u001b[1;33m[\u001b[0m\u001b[1;33m~\u001b[0m\u001b[0mmask\u001b[0m\u001b[1;33m]\u001b[0m\u001b[1;33m\u001b[0m\u001b[0m\n\u001b[0;32m   3626\u001b[0m         \u001b[1;32mreturn\u001b[0m \u001b[0mself\u001b[0m\u001b[1;33m.\u001b[0m\u001b[0mdelete\u001b[0m\u001b[1;33m(\u001b[0m\u001b[0mindexer\u001b[0m\u001b[1;33m)\u001b[0m\u001b[1;33m\u001b[0m\u001b[0m\n",
      "\u001b[1;31mValueError\u001b[0m: labels [57683 57684 57688 57733 57767 57773 57865 57884 57922 57923 57924 57925\n 57926 57937 57992 57999 58015 58021 58045 58061 58067 58078 58080 58114\n 58129 58133 58153 58156 58160 58165 58167 58177 58188 58216 58236 58247\n 58253 58283 58294 58312 58314 58345 58365 58385 58387 58389 58421 58434\n 58442 58460 58509 58618 58621 58624 58639 58644 58668 58701 58709 58713\n 58726 58748 58793 58800 58803 58812 58824 58838 58930 58971 58973 58974\n 58975 58976 58977 58982 59032 59035 59037 59040 59041 59053 59056 59060\n 59081 59084 59098 59152 59153 59158 59167 59173 59186 59283 59325 59327\n 59328 59333 59335 59339 59345 59346 59349 59378 59383 59388 59391 59393\n 59395 59396 59399 59435 59501 59506 59523 59547 59548 59549 59550 59557\n 59571 59591 59592 59629 59637 59647 59661 59668 59671 59672 59673 59674\n 59680 59683 59694 59695 59696 59716 59720 59728 59777 59801 59815 59834\n 59837 59848 59854 59860 59872 59879 59902 59914 59935 59936 59941 59960\n 59971 59998 60012 60014 60019 60020 60022 60035 60045 60047 60048 60052\n 60053 60079 60154 60175 60268 60274 60275 60279 60290 60295 60302 60308\n 60309 60310 60331 60408 60417 60426 60446 60483 60523 60527 60547 60550\n 60559 60574 60578 60589 60594 60595 60596 60597 60599 60606 60620 60640\n 60663 60666 60687 60694 60700 60707 60752 60753 60754 60757 60782 60792\n 60801 60860 60901 60919 60962 60968 60969 60982 60983 60986 60987 60988\n 60990 61025 61030 61060 61085 61094 61109 61117 61121 61126 61131 61207\n 61214 61223 61228 61232 61257 61264 61311 61318 61335 61388 61398 61405\n 61413 61414 61417 61418 61424 61429 61434 61452 61454 61459 61460 61461\n 61481 61510 61522 61523 61527 61529 61530 61533 61574 61583 61584 61651\n 61683 61748 61751] not contained in axis"
     ]
    }
   ],
   "source": [
    "dataframe = dataframe.drop(url_index)\n",
    "dataframe.reset_index(drop = True, inplace= True)\n",
    "print(dataframe.shape)"
   ]
  },
  {
   "cell_type": "code",
   "execution_count": 7,
   "metadata": {
    "collapsed": true
   },
   "outputs": [],
   "source": [
    "dataframe.to_csv('FinalPreprocessed-GST.csv', encoding = \"utf-8\")"
   ]
  },
  {
   "cell_type": "code",
   "execution_count": 64,
   "metadata": {
    "collapsed": true
   },
   "outputs": [],
   "source": [
    "#Removing duplicates\n",
    "url_list = list(set(url_list))"
   ]
  },
  {
   "cell_type": "code",
   "execution_count": 65,
   "metadata": {
    "collapsed": true
   },
   "outputs": [],
   "source": [
    "i = 0\n",
    "while i < len(url_list):\n",
    "    if(url_list[i].find(\"https\") == 0):\n",
    "        url_list[i] = \"http\" + url_list[i][5:]\n",
    "    if(url_list[i].find(\"http\") != 0):\n",
    "         url_list[i] = \"http://\" + url_list[i]\n",
    "    i = i+1"
   ]
  },
  {
   "cell_type": "code",
   "execution_count": 66,
   "metadata": {
    "collapsed": true
   },
   "outputs": [],
   "source": [
    "#writing to a text file\n",
    "output_file = open('GST-URLS.txt', 'w')\n",
    "for url in url_list:\n",
    "    output_file.write(url)\n",
    "    output_file.write(\"\\n\")\n",
    "output_file.close()"
   ]
  },
  {
   "cell_type": "code",
   "execution_count": 67,
   "metadata": {},
   "outputs": [
    {
     "name": "stdout",
     "output_type": "stream",
     "text": [
      "2908\n"
     ]
    }
   ],
   "source": [
    "print(len(url_list))"
   ]
  },
  {
   "cell_type": "code",
   "execution_count": null,
   "metadata": {
    "collapsed": true
   },
   "outputs": [],
   "source": []
  }
 ],
 "metadata": {
  "kernelspec": {
   "display_name": "Python 3",
   "language": "python",
   "name": "python3"
  },
  "language_info": {
   "codemirror_mode": {
    "name": "ipython",
    "version": 3
   },
   "file_extension": ".py",
   "mimetype": "text/x-python",
   "name": "python",
   "nbconvert_exporter": "python",
   "pygments_lexer": "ipython3",
   "version": "3.6.3"
  }
 },
 "nbformat": 4,
 "nbformat_minor": 2
}
